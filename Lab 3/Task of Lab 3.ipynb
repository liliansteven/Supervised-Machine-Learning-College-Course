{
  "cells": [
    {
      "attachments": {},
      "cell_type": "markdown",
      "metadata": {
        "id": "diNAT_1LHe7g"
      },
      "source": [
        "# Assignment\n",
        "\n",
        "- Apply Linear regression with gradient descent and MSE loss function from scratch (don't use the built-in linear regression in any library) to the following data (X, Y)\n",
        "\n",
        "- Split your dataset into 2 sets. Use 80% of your data for the training of the model and 20% of the data for the testing of the model (used to get the accuracy)\n",
        "\n",
        "\n"
      ]
    },
    {
      "cell_type": "code",
      "execution_count": 127,
      "metadata": {
        "colab": {
          "base_uri": "https://localhost:8080/",
          "height": 265
        },
        "id": "QFTmRVXzosz0",
        "outputId": "e9f98ae3-17d8-48aa-846c-21c7a016f5f5"
      },
      "outputs": [
        {
          "data": {
            "image/png": "[encoded data removed]",
            "text/plain": [
              "<Figure size 640x480 with 1 Axes>"
            ]
          },
          "metadata": {},
          "output_type": "display_data"
        }
      ],
      "source": [
        "import matplotlib.pyplot as plt\n",
        "import numpy as np\n",
        "x = np.arange(200)\n",
        "delta = np.random.uniform(-50,30, size=(200,))\n",
        "\n",
        "y = .4 * x +3 + delta\n",
        "\n",
        "plt.scatter(x, y)\n",
        "plt.show()"
      ]
    },
    {
      "attachments": {},
      "cell_type": "markdown",
      "metadata": {},
      "source": [
        "Mean Squared Error Function"
      ]
    },
    {
      "cell_type": "code",
      "execution_count": 128,
      "metadata": {},
      "outputs": [],
      "source": [
        "def MSE(y_true, y_predicted):\n",
        "     \n",
        "    # Calculating the loss or cost\n",
        "    cost = np.sum((y_true-y_predicted)**2) / len(y_true)\n",
        "    return cost"
      ]
    },
    {
      "attachments": {},
      "cell_type": "markdown",
      "metadata": {},
      "source": [
        "Gradient Descent"
      ]
    },
    {
      "cell_type": "code",
      "execution_count": 129,
      "metadata": {},
      "outputs": [],
      "source": [
        "def gradient_descent(x, y, iterations = 1000, learning_rate = 0.0001,\n",
        "                     stopping_threshold = 1e-6):\n",
        "     \n",
        "    # Initializing weight, bias, learning rate and iterations\n",
        "    current_weight = 0.1\n",
        "    current_bias = 0.01\n",
        "    n = len(x)\n",
        "     \n",
        "    costs = []\n",
        "    weights = []\n",
        "    previous_cost = None\n",
        "     \n",
        "    # Estimation of optimal parameters\n",
        "    for i in range(iterations):\n",
        "         \n",
        "        # Making predictions\n",
        "        y_predicted = (current_weight * x) + current_bias\n",
        "         \n",
        "        # Calculating the current cost\n",
        "        current_cost = MSE(y, y_predicted)\n",
        " \n",
        "        # If the change in cost is less than or equal to\n",
        "        # stopping_threshold we stop the gradient descent\n",
        "        if previous_cost and abs(previous_cost-current_cost)<=stopping_threshold:\n",
        "            break\n",
        "         \n",
        "        previous_cost = current_cost\n",
        " \n",
        "        costs.append(current_cost)\n",
        "        weights.append(current_weight)\n",
        "         \n",
        "        # Calculating the gradients\n",
        "        weight_derivative = -(2/n) * sum(x * (y-y_predicted))\n",
        "        bias_derivative = -(2/n) * sum(y-y_predicted)\n",
        "         \n",
        "        # Updating weights and bias\n",
        "        current_weight = current_weight - (learning_rate * weight_derivative)\n",
        "        current_bias = current_bias - (learning_rate * bias_derivative)\n",
        "     \n",
        "    return current_weight, current_bias"
      ]
    },
    {
      "attachments": {},
      "cell_type": "markdown",
      "metadata": {},
      "source": [
        "Spliting the data"
      ]
    },
    {
      "cell_type": "code",
      "execution_count": 130,
      "metadata": {},
      "outputs": [],
      "source": [
        "x_train = x[0:160]\n",
        "x_test = x[160:200]\n",
        "y_train = y[0:160]\n",
        "y_test = y[160:200]"
      ]
    },
    {
      "attachments": {},
      "cell_type": "markdown",
      "metadata": {},
      "source": [
        "Get prediction values to test part "
      ]
    },
    {
      "cell_type": "code",
      "execution_count": 131,
      "metadata": {},
      "outputs": [],
      "source": [
        "current_weight, current_bias = gradient_descent(x_train,y_train)\n",
        "y_hat = (current_weight*x_test)+current_bias"
      ]
    },
    {
      "attachments": {},
      "cell_type": "markdown",
      "metadata": {},
      "source": [
        "Calculate the Error & Accuracy"
      ]
    },
    {
      "cell_type": "code",
      "execution_count": 142,
      "metadata": {},
      "outputs": [
        {
          "name": "stdout",
          "output_type": "stream",
          "text": [
            "Mean squared error = 480.82623560676046\n",
            "--------------------------------------------------\n",
            "Explain variance score = 0.1\n",
            "R2 score = -0.02\n"
          ]
        }
      ],
      "source": [
        "Error = MSE(y_test , y_hat)\n",
        "print(\"Mean squared error =\",Error)\n",
        "print('-'*50)\n",
        "\n",
        "import sklearn.metrics as sm\n",
        "print(\"Explain variance score =\", round(sm.explained_variance_score(y_test, y_hat), 2)) \n",
        "print(\"R2 score =\", round(sm.r2_score(y_test, y_hat), 2))"
      ]
    }
  ],
  "metadata": {
    "colab": {
      "provenance": []
    },
    "kernelspec": {
      "display_name": "Python 3",
      "name": "python3"
    },
    "language_info": {
      "codemirror_mode": {
        "name": "ipython",
        "version": 3
      },
      "file_extension": ".py",
      "mimetype": "text/x-python",
      "name": "python",
      "nbconvert_exporter": "python",
      "pygments_lexer": "ipython3",
      "version": "3.8.6"
    }
  },
  "nbformat": 4,
  "nbformat_minor": 0
}
