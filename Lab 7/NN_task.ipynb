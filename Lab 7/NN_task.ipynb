{
 "cells": [
  {
   "attachments": {},
   "cell_type": "markdown",
   "metadata": {},
   "source": [
    "importing libraries"
   ]
  },
  {
   "cell_type": "code",
   "execution_count": 1,
   "metadata": {},
   "outputs": [],
   "source": [
    "from keras.datasets import mnist\n",
    "import pandas as pd\n",
    "from matplotlib import pyplot\n",
    "import numpy as np\n",
    "from sklearn.preprocessing import OneHotEncoder"
   ]
  },
  {
   "attachments": {},
   "cell_type": "markdown",
   "metadata": {},
   "source": [
    " Load MNIST dataset."
   ]
  },
  {
   "cell_type": "code",
   "execution_count": 2,
   "metadata": {},
   "outputs": [
    {
     "name": "stdout",
     "output_type": "stream",
     "text": [
      "X_train: (60000, 28, 28)\n",
      "Y_train: (60000,)\n",
      "X_test:  (10000, 28, 28)\n",
      "Y_test:  (10000,)\n"
     ]
    }
   ],
   "source": [
    "#loading\n",
    "(X_train, Y_train), (X_test, Y_test) = mnist.load_data()\n",
    " \n",
    "#shape of dataset\n",
    "print('X_train: ' + str(X_train.shape))\n",
    "print('Y_train: ' + str(Y_train.shape))\n",
    "print('X_test:  '  + str(X_test.shape))\n",
    "print('Y_test:  '  + str(Y_test.shape))\n",
    " \n"
   ]
  },
  {
   "cell_type": "code",
   "execution_count": 3,
   "metadata": {},
   "outputs": [
    {
     "data": {
      "image/png": "[encoded data removed]",
      "text/plain": [
       "<Figure size 640x480 with 1 Axes>"
      ]
     },
     "metadata": {},
     "output_type": "display_data"
    }
   ],
   "source": [
    "#plotting\n",
    "for i in range(1):  \n",
    "    pyplot.subplot(330 + 1 + i)\n",
    "    pyplot.imshow(X_train[i], cmap=pyplot.get_cmap('gray'))\n",
    "    pyplot.show()"
   ]
  },
  {
   "attachments": {},
   "cell_type": "markdown",
   "metadata": {},
   "source": [
    " Standardize your dataset"
   ]
  },
  {
   "cell_type": "code",
   "execution_count": 4,
   "metadata": {},
   "outputs": [
    {
     "name": "stdout",
     "output_type": "stream",
     "text": [
      "(70000, 784)\n"
     ]
    }
   ],
   "source": [
    "mean_train = np.mean(X_train, axis=0)\n",
    "std_train = np.std(X_train, axis=0)\n",
    "std_train[std_train == 0] = 1e-9\n",
    "X_train = (X_train - mean_train) / std_train\n",
    "\n",
    "mean_test = np.mean(X_test, axis=0)\n",
    "std_test = np.std(X_test, axis=0)\n",
    "std_test[std_test == 0] = 1e-9\n",
    "X_test = (X_test - mean_test) / std_test\n",
    "\n",
    "X_data = np.concatenate((X_train, X_test), axis=0)\n",
    "y_data = np.concatenate((Y_train, Y_test), axis=0)\n",
    "\n",
    "X_data = X_data.reshape(X_data.shape[0],-1)\n",
    "print(X_data.shape)"
   ]
  },
  {
   "attachments": {},
   "cell_type": "markdown",
   "metadata": {},
   "source": [
    " Implement Logistic Regression with different values for learning rate"
   ]
  },
  {
   "cell_type": "code",
   "execution_count": 5,
   "metadata": {},
   "outputs": [],
   "source": [
    "class Logistic_Regression():\n",
    "    \n",
    "    \n",
    "    # declaring learning rate & number of iterations (Hyperparametes)\n",
    "    def __init__(self, learning_rate, no_of_iterations):\n",
    "        \n",
    "        self.learning_rate = learning_rate\n",
    "        self.no_of_iterations = no_of_iterations\n",
    "        \n",
    "        \n",
    "    # fit function to train the model with dataset\n",
    "    def fit(self, X, Y):\n",
    "        \n",
    "        # number of data points in the dataset (number of rows)  -->  m\n",
    "        # number of input features in the dataset (number of columns)  --> n\n",
    "        self.m, self.n = X.shape\n",
    "        \n",
    "        #initiating weight & bias value\n",
    "        self.w = np.zeros(self.n)\n",
    "        self.b = 0\n",
    "        self.X = X\n",
    "        self.Y = Y\n",
    "        \n",
    "        # implementing Gradient Descent for Optimization\n",
    "        for i in range(self.no_of_iterations):\n",
    "            self.update_weights()       \n",
    "        \n",
    "        return  self.w\n",
    "    \n",
    "\n",
    "    def update_weights(self):\n",
    "        # Y_hat formula (sigmoid function)\n",
    "        Y_hat = 1 / (1 + np.exp( - (self.X.dot(self.w) + self.b ) ))    \n",
    "        \n",
    "        # derivaties\n",
    "        dw = (1/self.m)*np.dot(self.X.T, (Y_hat - self.Y))\n",
    "        \n",
    "        db = (1/self.m)*np.sum(Y_hat - self.Y)\n",
    "        \n",
    "        # updating the weights & bias using gradient descent\n",
    "        self.w = self.w - self.learning_rate * dw\n",
    "        \n",
    "        self.b = self.b - self.learning_rate * db\n",
    "      \n",
    "    # Sigmoid Equation & Decision Boundary\n",
    "    def predict(self, X):\n",
    "        Y_pred = 1 / (1 + np.exp( - (X.dot(self.w) + self.b ) ))\n",
    "        Y_pred = np.where( Y_pred > 0.5, 1, 0)\n",
    "        return Y_pred\n",
    "    \n",
    "\n",
    "    def score(self,y,y_hat):\n",
    "        tp,tn,fp,fn = 0,0,0,0\n",
    "        for i in range(len(y)):\n",
    "            if y[i] == 1 and y_hat[i] == 1:\n",
    "                tp += 1\n",
    "            elif y[i] == 1 and y_hat[i] == 0:\n",
    "                fn += 1\n",
    "            elif y[i] == 0 and y_hat[i] == 1:\n",
    "                fp += 1\n",
    "            elif y[i] == 0 and y_hat[i] == 0:\n",
    "                tn += 1\n",
    "        precision = tp/(tp+fp)\n",
    "        recall = tp/(tp+fn)\n",
    "        score = 2*precision*recall/(precision+recall)\n",
    "        return score\n"
   ]
  },
  {
   "attachments": {},
   "cell_type": "markdown",
   "metadata": {},
   "source": [
    "## onehotercoder :-"
   ]
  },
  {
   "cell_type": "code",
   "execution_count": 6,
   "metadata": {},
   "outputs": [
    {
     "data": {
      "text/html": [
       "<div>\n",
       "<style scoped>\n",
       "    .dataframe tbody tr th:only-of-type {\n",
       "        vertical-align: middle;\n",
       "    }\n",
       "\n",
       "    .dataframe tbody tr th {\n",
       "        vertical-align: top;\n",
       "    }\n",
       "\n",
       "    .dataframe thead th {\n",
       "        text-align: right;\n",
       "    }\n",
       "</style>\n",
       "<table border=\"1\" class=\"dataframe\">\n",
       "  <thead>\n",
       "    <tr style=\"text-align: right;\">\n",
       "      <th></th>\n",
       "      <th>0</th>\n",
       "      <th>1</th>\n",
       "      <th>2</th>\n",
       "      <th>3</th>\n",
       "      <th>4</th>\n",
       "      <th>5</th>\n",
       "      <th>6</th>\n",
       "      <th>7</th>\n",
       "      <th>8</th>\n",
       "      <th>9</th>\n",
       "    </tr>\n",
       "  </thead>\n",
       "  <tbody>\n",
       "    <tr>\n",
       "      <th>0</th>\n",
       "      <td>0.0</td>\n",
       "      <td>0.0</td>\n",
       "      <td>0.0</td>\n",
       "      <td>0.0</td>\n",
       "      <td>0.0</td>\n",
       "      <td>1.0</td>\n",
       "      <td>0.0</td>\n",
       "      <td>0.0</td>\n",
       "      <td>0.0</td>\n",
       "      <td>0.0</td>\n",
       "    </tr>\n",
       "    <tr>\n",
       "      <th>1</th>\n",
       "      <td>1.0</td>\n",
       "      <td>0.0</td>\n",
       "      <td>0.0</td>\n",
       "      <td>0.0</td>\n",
       "      <td>0.0</td>\n",
       "      <td>0.0</td>\n",
       "      <td>0.0</td>\n",
       "      <td>0.0</td>\n",
       "      <td>0.0</td>\n",
       "      <td>0.0</td>\n",
       "    </tr>\n",
       "    <tr>\n",
       "      <th>2</th>\n",
       "      <td>0.0</td>\n",
       "      <td>0.0</td>\n",
       "      <td>0.0</td>\n",
       "      <td>0.0</td>\n",
       "      <td>1.0</td>\n",
       "      <td>0.0</td>\n",
       "      <td>0.0</td>\n",
       "      <td>0.0</td>\n",
       "      <td>0.0</td>\n",
       "      <td>0.0</td>\n",
       "    </tr>\n",
       "    <tr>\n",
       "      <th>3</th>\n",
       "      <td>0.0</td>\n",
       "      <td>1.0</td>\n",
       "      <td>0.0</td>\n",
       "      <td>0.0</td>\n",
       "      <td>0.0</td>\n",
       "      <td>0.0</td>\n",
       "      <td>0.0</td>\n",
       "      <td>0.0</td>\n",
       "      <td>0.0</td>\n",
       "      <td>0.0</td>\n",
       "    </tr>\n",
       "    <tr>\n",
       "      <th>4</th>\n",
       "      <td>0.0</td>\n",
       "      <td>0.0</td>\n",
       "      <td>0.0</td>\n",
       "      <td>0.0</td>\n",
       "      <td>0.0</td>\n",
       "      <td>0.0</td>\n",
       "      <td>0.0</td>\n",
       "      <td>0.0</td>\n",
       "      <td>0.0</td>\n",
       "      <td>1.0</td>\n",
       "    </tr>\n",
       "  </tbody>\n",
       "</table>\n",
       "</div>"
      ],
      "text/plain": [
       "     0    1    2    3    4    5    6    7    8    9\n",
       "0  0.0  0.0  0.0  0.0  0.0  1.0  0.0  0.0  0.0  0.0\n",
       "1  1.0  0.0  0.0  0.0  0.0  0.0  0.0  0.0  0.0  0.0\n",
       "2  0.0  0.0  0.0  0.0  1.0  0.0  0.0  0.0  0.0  0.0\n",
       "3  0.0  1.0  0.0  0.0  0.0  0.0  0.0  0.0  0.0  0.0\n",
       "4  0.0  0.0  0.0  0.0  0.0  0.0  0.0  0.0  0.0  1.0"
      ]
     },
     "execution_count": 6,
     "metadata": {},
     "output_type": "execute_result"
    }
   ],
   "source": [
    "enc = OneHotEncoder()\n",
    "enc_ydata = pd.DataFrame(enc.fit_transform(y_data.reshape(-1,1)).toarray())\n",
    "enc_ydata.head(5)"
   ]
  },
  {
   "cell_type": "code",
   "execution_count": 7,
   "metadata": {},
   "outputs": [],
   "source": [
    "from  sklearn.model_selection import train_test_split\n",
    "\n",
    "X_data = pd.DataFrame(X_data)\n",
    "x_train , x_test ,y_train , y_test = train_test_split(X_data, enc_ydata ,test_size=0.2,random_state=42)"
   ]
  },
  {
   "cell_type": "code",
   "execution_count": 8,
   "metadata": {},
   "outputs": [],
   "source": [
    "model = Logistic_Regression(learning_rate= 0.001,no_of_iterations=1000)\n",
    "weights = np.zeros((10,784))\n",
    "for i in range (10):\n",
    "    Y = enc_ydata[i]\n",
    "    weights[i ,:] = model.fit(x_train,y_train[i])\n"
   ]
  },
  {
   "cell_type": "code",
   "execution_count": 9,
   "metadata": {},
   "outputs": [
    {
     "data": {
      "text/plain": [
       "array([[-0.0276667 , -0.91433069, -0.8640698 , ..., -0.56865529,\n",
       "         4.16396674,  3.23103116],\n",
       "       [-0.22017022, -0.15106092,  0.73270443, ...,  3.13299103,\n",
       "        -0.89264242,  0.13158279],\n",
       "       [-0.8325581 , -0.14883055, -1.00238705, ..., -0.61129328,\n",
       "        -0.50162398,  0.55546448],\n",
       "       ...,\n",
       "       [-0.63977851,  0.05692614, -0.51266291, ..., -0.21595362,\n",
       "        -0.97227397, -1.54560986],\n",
       "       [-0.24367844,  0.29881625,  0.66879926, ..., -0.28170397,\n",
       "        -0.4057928 ,  0.11852999],\n",
       "       [-0.44350249,  0.0718324 ,  0.36672323, ..., -0.0542103 ,\n",
       "        -0.48804859, -1.071099  ]])"
      ]
     },
     "execution_count": 9,
     "metadata": {},
     "output_type": "execute_result"
    }
   ],
   "source": [
    "Z = np.zeros((10,len(y_train)))\n",
    "for i in range (10):\n",
    "    Z[i,:] = x_train.dot(weights[i,:])\n",
    "Z"
   ]
  },
  {
   "cell_type": "code",
   "execution_count": 63,
   "metadata": {},
   "outputs": [
    {
     "name": "stdout",
     "output_type": "stream",
     "text": [
      "predicted class: \n",
      "[6 4 1 ... 1 0 0]\n",
      "\n",
      " -------------------------------------------------- \n",
      "\n",
      "New predicted class: \n",
      "     0    1    2    3    4    5    6    7    8    9\n",
      "0  0.0  0.0  0.0  0.0  0.0  0.0  1.0  0.0  0.0  0.0\n",
      "1  0.0  0.0  0.0  0.0  1.0  0.0  0.0  0.0  0.0  0.0\n",
      "2  0.0  1.0  0.0  0.0  0.0  0.0  0.0  0.0  0.0  0.0\n",
      "3  1.0  0.0  0.0  0.0  0.0  0.0  0.0  0.0  0.0  0.0\n",
      "4  0.0  0.0  0.0  0.0  0.0  0.0  0.0  1.0  0.0  0.0\n",
      "\n",
      " -------------------------------------------------- \n",
      "\n",
      "Accuracy of class(0):  97.72857142857143\n",
      "Accuracy of class(1):  96.10892857142858\n",
      "Accuracy of class(2):  96.95357142857142\n",
      "Accuracy of class(3):  96.00892857142857\n",
      "Accuracy of class(4):  97.52678571428571\n",
      "Accuracy of class(5):  95.94821428571429\n",
      "Accuracy of class(6):  97.78750000000001\n",
      "Accuracy of class(7):  96.52857142857142\n",
      "Accuracy of class(8):  96.03035714285714\n",
      "Accuracy of class(9):  95.95\n"
     ]
    }
   ],
   "source": [
    "softmax_values = np.exp(Z) / np.sum(np.exp(Z), axis=0)\n",
    "\n",
    "predicted_class = np.argmax(softmax_values, axis=0)\n",
    "\n",
    "print(\"predicted class: \")\n",
    "print(predicted_class)\n",
    "print(\"\\n\",\"-\"*50,\"\\n\")\n",
    "\n",
    "predicted_class = pd.DataFrame(enc.fit_transform(predicted_class.reshape(-1,1)).toarray())\n",
    "print(\"New predicted class: \")\n",
    "print(predicted_class.head(5))\n",
    "print(\"\\n\",\"-\"*50,\"\\n\")\n",
    "\n",
    "for i in range (10):\n",
    "    accuracy = np.mean(predicted_class.iloc[:, i].values == y_train[i]) * 100\n",
    "    print(f\"Accuracy of class({i}): \",accuracy)"
   ]
  }
 ],
 "metadata": {
  "kernelspec": {
   "display_name": "Python 3",
   "language": "python",
   "name": "python3"
  },
  "language_info": {
   "codemirror_mode": {
    "name": "ipython",
    "version": 3
   },
   "file_extension": ".py",
   "mimetype": "text/x-python",
   "name": "python",
   "nbconvert_exporter": "python",
   "pygments_lexer": "ipython3",
   "version": "3.11.2"
  },
  "orig_nbformat": 4
 },
 "nbformat": 4,
 "nbformat_minor": 2
}
